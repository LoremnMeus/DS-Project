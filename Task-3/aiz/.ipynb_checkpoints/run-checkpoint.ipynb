{
 "cells": [
  {
   "cell_type": "code",
   "execution_count": 1,
   "id": "dde10db2",
   "metadata": {},
   "outputs": [],
   "source": [
    "from aizynthfinder.interfaces import AiZynthApp"
   ]
  },
  {
   "cell_type": "code",
   "execution_count": 6,
   "id": "eef2594e",
   "metadata": {},
   "outputs": [
    {
     "name": "stdout",
     "output_type": "stream",
     "text": [
      "Loading template-based expansion policy model from C:\\Users\\PC\\Documents\\PyProjects\\ml-assignment-final\\aiz\\uspto_model.onnx to uspto\n",
      "Loading templates from C:\\Users\\PC\\Documents\\PyProjects\\ml-assignment-final\\aiz\\uspto_templates.csv.gz to uspto\n",
      "Loading template-based expansion policy model from C:\\Users\\PC\\Documents\\PyProjects\\ml-assignment-final\\aiz\\uspto_ringbreaker_model.onnx to ringbreaker\n",
      "Loading templates from C:\\Users\\PC\\Documents\\PyProjects\\ml-assignment-final\\aiz\\uspto_ringbreaker_templates.csv.gz to ringbreaker\n",
      "Loading filter policy model from C:\\Users\\PC\\Documents\\PyProjects\\ml-assignment-final\\aiz\\uspto_filter_model.onnx to uspto\n",
      "Loading stock from C:\\Users\\PC\\Documents\\PyProjects\\ml-assignment-final\\aiz\\zinc_stock_17_04_20.hdf5 to zinc\n",
      "Selected as molecule cost: zero\n"
     ]
    },
    {
     "data": {
      "application/vnd.jupyter.widget-view+json": {
       "model_id": "19b76e7746cf416d8656ba7e55f43476",
       "version_major": 2,
       "version_minor": 0
      },
      "text/plain": [
       "Text(value='', continuous_update=False, description='SMILES')"
      ]
     },
     "metadata": {},
     "output_type": "display_data"
    },
    {
     "data": {
      "application/vnd.jupyter.widget-view+json": {
       "model_id": "d37d67335ad24e74ae89286d3cb0303d",
       "version_major": 2,
       "version_minor": 0
      },
      "text/plain": [
       "Output(layout=Layout(border='1px solid silver', height='180px', width='50%'))"
      ]
     },
     "metadata": {},
     "output_type": "display_data"
    },
    {
     "data": {
      "application/vnd.jupyter.widget-view+json": {
       "model_id": "a07903f13b4f4a8a8427cd232e83f3e5",
       "version_major": 2,
       "version_minor": 0
      },
      "text/plain": [
       "Tab(children=(HBox(children=(VBox(children=(Label(value='Stocks'), Checkbox(value=True, description='zinc', st…"
      ]
     },
     "metadata": {},
     "output_type": "display_data"
    },
    {
     "data": {
      "application/vnd.jupyter.widget-view+json": {
       "model_id": "d16dd36eb61e4d4dae6353a261faf456",
       "version_major": 2,
       "version_minor": 0
      },
      "text/plain": [
       "HBox(children=(Button(description='Run Search', style=ButtonStyle()), Button(description='Extend Search', styl…"
      ]
     },
     "metadata": {},
     "output_type": "display_data"
    },
    {
     "data": {
      "application/vnd.jupyter.widget-view+json": {
       "model_id": "757a9bd1a5214505a5659aceaec178c7",
       "version_major": 2,
       "version_minor": 0
      },
      "text/plain": [
       "Output(layout=Layout(border='1px solid silver', height='320px', overflow='auto', width='99%'))"
      ]
     },
     "metadata": {},
     "output_type": "display_data"
    },
    {
     "data": {
      "application/vnd.jupyter.widget-view+json": {
       "model_id": "351983849f0e49e5937e9df0e461b24b",
       "version_major": 2,
       "version_minor": 0
      },
      "text/plain": [
       "HBox(children=(Button(description='Show Reactions', style=ButtonStyle()), Dropdown(description='Routes: ', opt…"
      ]
     },
     "metadata": {},
     "output_type": "display_data"
    },
    {
     "data": {
      "application/vnd.jupyter.widget-view+json": {
       "model_id": "cbed153308a144faa37cfca1c7b4a7d4",
       "version_major": 2,
       "version_minor": 0
      },
      "text/plain": [
       "Output(layout=Layout(border='1px solid silver', width='99%'))"
      ]
     },
     "metadata": {},
     "output_type": "display_data"
    }
   ],
   "source": [
    "app = AiZynthApp(\"config.yml\")"
   ]
  },
  {
   "cell_type": "code",
   "execution_count": null,
   "id": "6561ffd5",
   "metadata": {},
   "outputs": [],
   "source": [
    "# Check\n",
    "import pandas as pd\n",
    "fpath = \"x/filter_policy_random.hdf5\"\n",
    " df = pd.read_hdf(fpath)"
   ]
  },
  {
   "cell_type": "code",
   "execution_count": null,
   "id": "82885e84",
   "metadata": {},
   "outputs": [],
   "source": []
  }
 ],
 "metadata": {
  "kernelspec": {
   "display_name": "Python 3 (ipykernel)",
   "language": "python",
   "name": "python3"
  },
  "language_info": {
   "codemirror_mode": {
    "name": "ipython",
    "version": 3
   },
   "file_extension": ".py",
   "mimetype": "text/x-python",
   "name": "python",
   "nbconvert_exporter": "python",
   "pygments_lexer": "ipython3",
   "version": "3.9.16"
  }
 },
 "nbformat": 4,
 "nbformat_minor": 5
}
