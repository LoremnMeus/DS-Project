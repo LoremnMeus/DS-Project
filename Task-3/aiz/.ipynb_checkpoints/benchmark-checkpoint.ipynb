{
 "cells": [
  {
   "cell_type": "code",
   "execution_count": 1,
   "id": "3f098192",
   "metadata": {},
   "outputs": [],
   "source": [
    "from aizynthfinder.aizynthfinder import AiZynthFinder\n",
    "import pickle\n",
    "import random\n",
    "import pprint"
   ]
  },
  {
   "cell_type": "code",
   "execution_count": 2,
   "id": "70e258f1",
   "metadata": {},
   "outputs": [
    {
     "data": {
      "text/plain": [
       "['C1=CC=C(C=C1)C=O',\n",
       " 'CC(=O)OC1=CC=CC=C1C(=O)O',\n",
       " 'CCCC(C)(COC(=O)N)COC(=O)N',\n",
       " 'CC(=O)NC1=CC=C(C=C1)O']"
      ]
     },
     "execution_count": 2,
     "metadata": {},
     "output_type": "execute_result"
    }
   ],
   "source": [
    "config_list = [\"bfs\", \"dpfs\", \"mstc\", \"retro_star\"]\n",
    "pp = pprint.PrettyPrinter()\n",
    "routes = open(\"data/smiles.txt\", 'r').read().splitlines()\n",
    "\n",
    "# Shuffle test data\n",
    "random.seed(199)\n",
    "random.shuffle(routes)\n",
    "routes"
   ]
  },
  {
   "cell_type": "code",
   "execution_count": 7,
   "id": "4213d194",
   "metadata": {},
   "outputs": [
    {
     "name": "stdout",
     "output_type": "stream",
     "text": [
      "Evaluation algo: bfs\n",
      "Finding route for: C1=CC=C(C=C1)C=O\n"
     ]
    },
    {
     "name": "stderr",
     "output_type": "stream",
     "text": [
      "\n",
      "  0%|                                                                      | 0/100 [00:00<?, ?it/s]\u001b[A"
     ]
    },
    {
     "ename": "PolicyException",
     "evalue": "No expansion policy selected",
     "output_type": "error",
     "traceback": [
      "\u001b[1;31m---------------------------------------------------------------------------\u001b[0m",
      "\u001b[1;31mPolicyException\u001b[0m                           Traceback (most recent call last)",
      "Cell \u001b[1;32mIn[7], line 15\u001b[0m\n\u001b[0;32m     13\u001b[0m \u001b[38;5;28mprint\u001b[39m(\u001b[38;5;124mf\u001b[39m\u001b[38;5;124m\"\u001b[39m\u001b[38;5;124mFinding route for: \u001b[39m\u001b[38;5;132;01m{\u001b[39;00mroute\u001b[38;5;132;01m}\u001b[39;00m\u001b[38;5;124m\"\u001b[39m)\n\u001b[0;32m     14\u001b[0m finder\u001b[38;5;241m.\u001b[39mtarget_smiles \u001b[38;5;241m=\u001b[39m route\n\u001b[1;32m---> 15\u001b[0m \u001b[43mfinder\u001b[49m\u001b[38;5;241;43m.\u001b[39;49m\u001b[43mtree_search\u001b[49m\u001b[43m(\u001b[49m\u001b[38;5;28;43;01mTrue\u001b[39;49;00m\u001b[43m)\u001b[49m\n\u001b[0;32m     16\u001b[0m finder\u001b[38;5;241m.\u001b[39mbuild_routes()\n\u001b[0;32m     17\u001b[0m stats \u001b[38;5;241m=\u001b[39m finder\u001b[38;5;241m.\u001b[39mextract_statistics()\n",
      "File \u001b[1;32m~\\miniconda3\\envs\\aizynth\\lib\\site-packages\\aizynthfinder\\aizynthfinder.py:213\u001b[0m, in \u001b[0;36mAiZynthFinder.tree_search\u001b[1;34m(self, show_progress)\u001b[0m\n\u001b[0;32m    210\u001b[0m \u001b[38;5;28mself\u001b[39m\u001b[38;5;241m.\u001b[39msearch_stats[\u001b[38;5;124m\"\u001b[39m\u001b[38;5;124miterations\u001b[39m\u001b[38;5;124m\"\u001b[39m] \u001b[38;5;241m+\u001b[39m\u001b[38;5;241m=\u001b[39m \u001b[38;5;241m1\u001b[39m\n\u001b[0;32m    212\u001b[0m \u001b[38;5;28;01mtry\u001b[39;00m:\n\u001b[1;32m--> 213\u001b[0m     is_solved \u001b[38;5;241m=\u001b[39m \u001b[38;5;28;43mself\u001b[39;49m\u001b[38;5;241;43m.\u001b[39;49m\u001b[43mtree\u001b[49m\u001b[38;5;241;43m.\u001b[39;49m\u001b[43mone_iteration\u001b[49m\u001b[43m(\u001b[49m\u001b[43m)\u001b[49m\n\u001b[0;32m    214\u001b[0m \u001b[38;5;28;01mexcept\u001b[39;00m \u001b[38;5;167;01mStopIteration\u001b[39;00m:\n\u001b[0;32m    215\u001b[0m     \u001b[38;5;28;01mbreak\u001b[39;00m\n",
      "File \u001b[1;32m~\\miniconda3\\envs\\aizynth\\lib\\site-packages\\aizynthfinder\\search\\breadth_first\\search_tree.py:101\u001b[0m, in \u001b[0;36mSearchTree.one_iteration\u001b[1;34m(self)\u001b[0m\n\u001b[0;32m     99\u001b[0m \u001b[38;5;28;01mfor\u001b[39;00m next_node \u001b[38;5;129;01min\u001b[39;00m \u001b[38;5;28mself\u001b[39m\u001b[38;5;241m.\u001b[39m_mol_nodes:\n\u001b[0;32m    100\u001b[0m     \u001b[38;5;28;01mif\u001b[39;00m next_node\u001b[38;5;241m.\u001b[39mexpandable:\n\u001b[1;32m--> 101\u001b[0m         \u001b[38;5;28;43mself\u001b[39;49m\u001b[38;5;241;43m.\u001b[39;49m\u001b[43m_expand\u001b[49m\u001b[43m(\u001b[49m\u001b[43mnext_node\u001b[49m\u001b[43m)\u001b[49m\n\u001b[0;32m    103\u001b[0m \u001b[38;5;28;01mif\u001b[39;00m \u001b[38;5;129;01mnot\u001b[39;00m \u001b[38;5;28mself\u001b[39m\u001b[38;5;241m.\u001b[39m_added_mol_nodes:\n\u001b[0;32m    104\u001b[0m     \u001b[38;5;28mself\u001b[39m\u001b[38;5;241m.\u001b[39m_logger\u001b[38;5;241m.\u001b[39mdebug(\u001b[38;5;124m\"\u001b[39m\u001b[38;5;124mNo new nodes added in breadth-first iteration\u001b[39m\u001b[38;5;124m\"\u001b[39m)\n",
      "File \u001b[1;32m~\\miniconda3\\envs\\aizynth\\lib\\site-packages\\aizynthfinder\\search\\breadth_first\\search_tree.py:140\u001b[0m, in \u001b[0;36mSearchTree._expand\u001b[1;34m(self, node)\u001b[0m\n\u001b[0;32m    138\u001b[0m \u001b[38;5;28;01mdef\u001b[39;00m \u001b[38;5;21m_expand\u001b[39m(\u001b[38;5;28mself\u001b[39m, node: MoleculeNode) \u001b[38;5;241m-\u001b[39m\u001b[38;5;241m>\u001b[39m \u001b[38;5;28;01mNone\u001b[39;00m:\n\u001b[0;32m    139\u001b[0m     node\u001b[38;5;241m.\u001b[39mexpandable \u001b[38;5;241m=\u001b[39m \u001b[38;5;28;01mFalse\u001b[39;00m\n\u001b[1;32m--> 140\u001b[0m     reactions, _ \u001b[38;5;241m=\u001b[39m \u001b[38;5;28;43mself\u001b[39;49m\u001b[38;5;241;43m.\u001b[39;49m\u001b[43mconfig\u001b[49m\u001b[38;5;241;43m.\u001b[39;49m\u001b[43mexpansion_policy\u001b[49m\u001b[43m(\u001b[49m\u001b[43m[\u001b[49m\u001b[43mnode\u001b[49m\u001b[38;5;241;43m.\u001b[39;49m\u001b[43mmol\u001b[49m\u001b[43m]\u001b[49m\u001b[43m)\u001b[49m\n\u001b[0;32m    141\u001b[0m     \u001b[38;5;28mself\u001b[39m\u001b[38;5;241m.\u001b[39mprofiling[\u001b[38;5;124m\"\u001b[39m\u001b[38;5;124mexpansion_calls\u001b[39m\u001b[38;5;124m\"\u001b[39m] \u001b[38;5;241m+\u001b[39m\u001b[38;5;241m=\u001b[39m \u001b[38;5;241m1\u001b[39m\n\u001b[0;32m    143\u001b[0m     \u001b[38;5;28;01mif\u001b[39;00m \u001b[38;5;129;01mnot\u001b[39;00m reactions:\n",
      "File \u001b[1;32m~\\miniconda3\\envs\\aizynth\\lib\\site-packages\\aizynthfinder\\context\\policy\\policies.py:51\u001b[0m, in \u001b[0;36mExpansionPolicy.__call__\u001b[1;34m(self, molecules)\u001b[0m\n\u001b[0;32m     48\u001b[0m \u001b[38;5;28;01mdef\u001b[39;00m \u001b[38;5;21m__call__\u001b[39m(\n\u001b[0;32m     49\u001b[0m     \u001b[38;5;28mself\u001b[39m, molecules: Sequence[TreeMolecule]\n\u001b[0;32m     50\u001b[0m ) \u001b[38;5;241m-\u001b[39m\u001b[38;5;241m>\u001b[39m Tuple[List[RetroReaction], List[\u001b[38;5;28mfloat\u001b[39m]]:\n\u001b[1;32m---> 51\u001b[0m     \u001b[38;5;28;01mreturn\u001b[39;00m \u001b[38;5;28;43mself\u001b[39;49m\u001b[38;5;241;43m.\u001b[39;49m\u001b[43mget_actions\u001b[49m\u001b[43m(\u001b[49m\u001b[43mmolecules\u001b[49m\u001b[43m)\u001b[49m\n",
      "File \u001b[1;32m~\\miniconda3\\envs\\aizynth\\lib\\site-packages\\aizynthfinder\\context\\policy\\policies.py:64\u001b[0m, in \u001b[0;36mExpansionPolicy.get_actions\u001b[1;34m(self, molecules)\u001b[0m\n\u001b[0;32m     56\u001b[0m \u001b[38;5;250m\u001b[39m\u001b[38;5;124;03m\"\"\"\u001b[39;00m\n\u001b[0;32m     57\u001b[0m \u001b[38;5;124;03mGet all the probable actions of a set of molecules, using the selected policies\u001b[39;00m\n\u001b[0;32m     58\u001b[0m \n\u001b[1;32m   (...)\u001b[0m\n\u001b[0;32m     61\u001b[0m \u001b[38;5;124;03m:raises: PolicyException: if the policy isn't selected\u001b[39;00m\n\u001b[0;32m     62\u001b[0m \u001b[38;5;124;03m\"\"\"\u001b[39;00m\n\u001b[0;32m     63\u001b[0m \u001b[38;5;28;01mif\u001b[39;00m \u001b[38;5;129;01mnot\u001b[39;00m \u001b[38;5;28mself\u001b[39m\u001b[38;5;241m.\u001b[39mselection:\n\u001b[1;32m---> 64\u001b[0m     \u001b[38;5;28;01mraise\u001b[39;00m PolicyException(\u001b[38;5;124m\"\u001b[39m\u001b[38;5;124mNo expansion policy selected\u001b[39m\u001b[38;5;124m\"\u001b[39m)\n\u001b[0;32m     66\u001b[0m all_possible_actions \u001b[38;5;241m=\u001b[39m []\n\u001b[0;32m     67\u001b[0m all_priors \u001b[38;5;241m=\u001b[39m []\n",
      "\u001b[1;31mPolicyException\u001b[0m: No expansion policy selected"
     ]
    }
   ],
   "source": [
    "res_statistic = dict()\n",
    "\n",
    "\n",
    "for algo in config_list:\n",
    "    print(f\"Evaluation algo: {algo}\")\n",
    "    finder = AiZynthFinder(configfile=f\"data/config_{algo}.yml\")\n",
    "    finder.stock.select(\"zinc\")\n",
    "    finder.expansion_policy.select(\"uspto\")\n",
    "    finder.filter_policy.select(\"uspto\")\n",
    "    \n",
    "    res_statistic[algo] = []\n",
    "    for (i, route) in enumerate(routes):\n",
    "        print(f\"Finding route for: {route}\")\n",
    "        finder.target_smiles = route\n",
    "        finder.tree_search(True)\n",
    "        finder.build_routes()\n",
    "        stats = finder.extract_statistics()\n",
    "        res_statistic[algo].append(stats)\n",
    "        print(f\"Solved: {stats['is_solved']}, first solution time: {stats['first_solution_time']}\")\n",
    "        # pp.pprint()\n",
    "\n"
   ]
  },
  {
   "cell_type": "code",
   "execution_count": null,
   "id": "9102116b",
   "metadata": {},
   "outputs": [],
   "source": [
    "# Analyse statistic\n"
   ]
  }
 ],
 "metadata": {
  "kernelspec": {
   "display_name": "Python 3 (ipykernel)",
   "language": "python",
   "name": "python3"
  },
  "language_info": {
   "codemirror_mode": {
    "name": "ipython",
    "version": 3
   },
   "file_extension": ".py",
   "mimetype": "text/x-python",
   "name": "python",
   "nbconvert_exporter": "python",
   "pygments_lexer": "ipython3",
   "version": "3.9.16"
  }
 },
 "nbformat": 4,
 "nbformat_minor": 5
}
