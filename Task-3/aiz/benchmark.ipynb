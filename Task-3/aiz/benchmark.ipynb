{
 "cells": [
  {
   "cell_type": "code",
   "execution_count": 1,
   "id": "3f098192",
   "metadata": {},
   "outputs": [],
   "source": [
    "from aizynthfinder.aizynthfinder import AiZynthFinder\n",
    "import pickle\n",
    "import random\n",
    "import pprint"
   ]
  },
  {
   "cell_type": "code",
   "execution_count": 2,
   "id": "70e258f1",
   "metadata": {},
   "outputs": [
    {
     "data": {
      "text/plain": [
       "['C1=CC=C(C=C1)C=O',\n",
       " 'CC(=O)OC1=CC=CC=C1C(=O)O',\n",
       " 'CCCC(C)(COC(=O)N)COC(=O)N',\n",
       " 'CC(=O)NC1=CC=C(C=C1)O']"
      ]
     },
     "execution_count": 2,
     "metadata": {},
     "output_type": "execute_result"
    }
   ],
   "source": [
    "config_list = [\"bfs\", \"dpfs\", \"mstc\", \"retro_star\"]\n",
    "pp = pprint.PrettyPrinter()\n",
    "routes = open(\"data/smiles.txt\", 'r').read().splitlines()\n",
    "\n",
    "# Shuffle test data\n",
    "random.seed(199)\n",
    "random.shuffle(routes)\n",
    "routes"
   ]
  },
  {
   "cell_type": "code",
   "execution_count": null,
   "id": "4213d194",
   "metadata": {},
   "outputs": [
    {
     "name": "stdout",
     "output_type": "stream",
     "text": [
      "Evaluation algo: bfs\n",
      "Finding route for: C1=CC=C(C=C1)C=O\n"
     ]
    },
    {
     "name": "stderr",
     "output_type": "stream",
     "text": [
      "\n",
      "\n",
      "  0%|                                                                      | 0/100 [00:00<?, ?it/s]\u001b[A\u001b[A\n",
      "\n",
      "  2%|█▏                                                            | 2/100 [00:01<00:58,  1.69it/s]\u001b[A\u001b[A\n",
      "\n",
      "  3%|█▊                                                            | 3/100 [00:02<01:10,  1.37it/s]\u001b[A\u001b[A\n",
      "\n",
      "                                                                                                   \u001b[A\u001b[A\n",
      "\n",
      "  5%|███                                                           | 5/100 [01:42<55:19, 34.95s/it]\u001b[A\u001b[A"
     ]
    }
   ],
   "source": [
    "res_statistic = dict()\n",
    "\n",
    "\n",
    "for algo in config_list:\n",
    "    print(f\"Evaluation algo: {algo}\")\n",
    "    finder = AiZynthFinder(configfile=f\"data/config_{algo}.yml\")\n",
    "    finder.stock.select(\"zinc\")\n",
    "    finder.expansion_policy.select(\"uspto\")\n",
    "    finder.filter_policy.select(\"uspto\")\n",
    "    \n",
    "    res_statistic[algo] = []\n",
    "    for (i, route) in enumerate(routes):\n",
    "        print(f\"Finding route for: {route}\")\n",
    "        finder.target_smiles = route\n",
    "        finder.tree_search(True)\n",
    "        finder.build_routes()\n",
    "        stats = finder.extract_statistics()\n",
    "        res_statistic[algo].append(stats)\n",
    "        print(f\"Solved: {stats['is_solved']}, first solution time: {stats['first_solution_time']}\")\n",
    "        # pp.pprint()\n",
    "\n"
   ]
  },
  {
   "cell_type": "code",
   "execution_count": null,
   "id": "9102116b",
   "metadata": {},
   "outputs": [],
   "source": [
    "# Analyse statistic\n"
   ]
  }
 ],
 "metadata": {
  "kernelspec": {
   "display_name": "Python 3 (ipykernel)",
   "language": "python",
   "name": "python3"
  },
  "language_info": {
   "codemirror_mode": {
    "name": "ipython",
    "version": 3
   },
   "file_extension": ".py",
   "mimetype": "text/x-python",
   "name": "python",
   "nbconvert_exporter": "python",
   "pygments_lexer": "ipython3",
   "version": "3.9.16"
  }
 },
 "nbformat": 4,
 "nbformat_minor": 5
}
